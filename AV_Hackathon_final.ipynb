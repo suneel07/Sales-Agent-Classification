{
 "cells": [
  {
   "cell_type": "code",
   "execution_count": 1,
   "metadata": {},
   "outputs": [],
   "source": [
    "import numpy as np\n",
    "import pandas as pd\n",
    "import matplotlib.pyplot as plt\n",
    "import seaborn as sns"
   ]
  },
  {
   "cell_type": "code",
   "execution_count": 2,
   "metadata": {},
   "outputs": [],
   "source": [
    "train = pd.read_csv(\"G:\\\\Data Science\\\\AV_Hackathon\\\\Train.csv\",parse_dates = ['Application_Receipt_Date','Applicant_BirthDate',\n",
    "                                                                              'Manager_DOJ','Manager_DoB'],infer_datetime_format = True)\n",
    "test = pd.read_csv(\"G:\\\\Data Science\\\\AV_Hackathon\\\\Test.csv\",parse_dates = ['Application_Receipt_Date','Applicant_BirthDate',\n",
    "                                                                              'Manager_DOJ','Manager_DoB'],infer_datetime_format = True)"
   ]
  },
  {
   "cell_type": "code",
   "execution_count": 3,
   "metadata": {},
   "outputs": [],
   "source": [
    "train['source'] = 'train'\n",
    "test['source'] = 'test'"
   ]
  },
  {
   "cell_type": "code",
   "execution_count": 4,
   "metadata": {},
   "outputs": [
    {
     "data": {
      "text/html": [
       "<div>\n",
       "<style scoped>\n",
       "    .dataframe tbody tr th:only-of-type {\n",
       "        vertical-align: middle;\n",
       "    }\n",
       "\n",
       "    .dataframe tbody tr th {\n",
       "        vertical-align: top;\n",
       "    }\n",
       "\n",
       "    .dataframe thead th {\n",
       "        text-align: right;\n",
       "    }\n",
       "</style>\n",
       "<table border=\"1\" class=\"dataframe\">\n",
       "  <thead>\n",
       "    <tr style=\"text-align: right;\">\n",
       "      <th></th>\n",
       "      <th>ID</th>\n",
       "      <th>Office_PIN</th>\n",
       "      <th>Application_Receipt_Date</th>\n",
       "      <th>Applicant_City_PIN</th>\n",
       "      <th>Applicant_Gender</th>\n",
       "      <th>Applicant_BirthDate</th>\n",
       "      <th>Applicant_Marital_Status</th>\n",
       "      <th>Applicant_Occupation</th>\n",
       "      <th>Applicant_Qualification</th>\n",
       "      <th>Manager_DOJ</th>\n",
       "      <th>...</th>\n",
       "      <th>Manager_Gender</th>\n",
       "      <th>Manager_DoB</th>\n",
       "      <th>Manager_Num_Application</th>\n",
       "      <th>Manager_Num_Coded</th>\n",
       "      <th>Manager_Business</th>\n",
       "      <th>Manager_Num_Products</th>\n",
       "      <th>Manager_Business2</th>\n",
       "      <th>Manager_Num_Products2</th>\n",
       "      <th>Business_Sourced</th>\n",
       "      <th>source</th>\n",
       "    </tr>\n",
       "  </thead>\n",
       "  <tbody>\n",
       "    <tr>\n",
       "      <th>0</th>\n",
       "      <td>FIN1000001</td>\n",
       "      <td>842001</td>\n",
       "      <td>2007-04-16</td>\n",
       "      <td>844120.0</td>\n",
       "      <td>M</td>\n",
       "      <td>1971-12-19</td>\n",
       "      <td>M</td>\n",
       "      <td>Others</td>\n",
       "      <td>Graduate</td>\n",
       "      <td>2005-11-10</td>\n",
       "      <td>...</td>\n",
       "      <td>M</td>\n",
       "      <td>1978-02-17</td>\n",
       "      <td>2.0</td>\n",
       "      <td>1.0</td>\n",
       "      <td>335249.0</td>\n",
       "      <td>28.0</td>\n",
       "      <td>335249.0</td>\n",
       "      <td>28.0</td>\n",
       "      <td>0.0</td>\n",
       "      <td>train</td>\n",
       "    </tr>\n",
       "    <tr>\n",
       "      <th>1</th>\n",
       "      <td>FIN1000002</td>\n",
       "      <td>842001</td>\n",
       "      <td>2007-04-16</td>\n",
       "      <td>844111.0</td>\n",
       "      <td>M</td>\n",
       "      <td>1983-02-17</td>\n",
       "      <td>S</td>\n",
       "      <td>Others</td>\n",
       "      <td>Class XII</td>\n",
       "      <td>2005-11-10</td>\n",
       "      <td>...</td>\n",
       "      <td>M</td>\n",
       "      <td>1978-02-17</td>\n",
       "      <td>2.0</td>\n",
       "      <td>1.0</td>\n",
       "      <td>335249.0</td>\n",
       "      <td>28.0</td>\n",
       "      <td>335249.0</td>\n",
       "      <td>28.0</td>\n",
       "      <td>1.0</td>\n",
       "      <td>train</td>\n",
       "    </tr>\n",
       "    <tr>\n",
       "      <th>2</th>\n",
       "      <td>FIN1000003</td>\n",
       "      <td>800001</td>\n",
       "      <td>2007-04-16</td>\n",
       "      <td>844101.0</td>\n",
       "      <td>M</td>\n",
       "      <td>1966-01-16</td>\n",
       "      <td>M</td>\n",
       "      <td>Business</td>\n",
       "      <td>Class XII</td>\n",
       "      <td>2006-05-27</td>\n",
       "      <td>...</td>\n",
       "      <td>M</td>\n",
       "      <td>1969-03-03</td>\n",
       "      <td>0.0</td>\n",
       "      <td>0.0</td>\n",
       "      <td>357184.0</td>\n",
       "      <td>24.0</td>\n",
       "      <td>357184.0</td>\n",
       "      <td>24.0</td>\n",
       "      <td>0.0</td>\n",
       "      <td>train</td>\n",
       "    </tr>\n",
       "    <tr>\n",
       "      <th>3</th>\n",
       "      <td>FIN1000004</td>\n",
       "      <td>814112</td>\n",
       "      <td>2007-04-16</td>\n",
       "      <td>814112.0</td>\n",
       "      <td>M</td>\n",
       "      <td>1988-02-03</td>\n",
       "      <td>S</td>\n",
       "      <td>Salaried</td>\n",
       "      <td>Class XII</td>\n",
       "      <td>2003-08-21</td>\n",
       "      <td>...</td>\n",
       "      <td>F</td>\n",
       "      <td>1978-08-14</td>\n",
       "      <td>0.0</td>\n",
       "      <td>0.0</td>\n",
       "      <td>318356.0</td>\n",
       "      <td>22.0</td>\n",
       "      <td>318356.0</td>\n",
       "      <td>22.0</td>\n",
       "      <td>0.0</td>\n",
       "      <td>train</td>\n",
       "    </tr>\n",
       "    <tr>\n",
       "      <th>4</th>\n",
       "      <td>FIN1000005</td>\n",
       "      <td>814112</td>\n",
       "      <td>2007-04-16</td>\n",
       "      <td>815351.0</td>\n",
       "      <td>M</td>\n",
       "      <td>1985-07-04</td>\n",
       "      <td>M</td>\n",
       "      <td>Others</td>\n",
       "      <td>Class XII</td>\n",
       "      <td>2006-05-08</td>\n",
       "      <td>...</td>\n",
       "      <td>M</td>\n",
       "      <td>1971-02-07</td>\n",
       "      <td>2.0</td>\n",
       "      <td>1.0</td>\n",
       "      <td>230402.0</td>\n",
       "      <td>17.0</td>\n",
       "      <td>230402.0</td>\n",
       "      <td>17.0</td>\n",
       "      <td>0.0</td>\n",
       "      <td>train</td>\n",
       "    </tr>\n",
       "  </tbody>\n",
       "</table>\n",
       "<p>5 rows × 24 columns</p>\n",
       "</div>"
      ],
      "text/plain": [
       "           ID  Office_PIN Application_Receipt_Date  Applicant_City_PIN  \\\n",
       "0  FIN1000001      842001               2007-04-16            844120.0   \n",
       "1  FIN1000002      842001               2007-04-16            844111.0   \n",
       "2  FIN1000003      800001               2007-04-16            844101.0   \n",
       "3  FIN1000004      814112               2007-04-16            814112.0   \n",
       "4  FIN1000005      814112               2007-04-16            815351.0   \n",
       "\n",
       "  Applicant_Gender Applicant_BirthDate Applicant_Marital_Status  \\\n",
       "0                M          1971-12-19                        M   \n",
       "1                M          1983-02-17                        S   \n",
       "2                M          1966-01-16                        M   \n",
       "3                M          1988-02-03                        S   \n",
       "4                M          1985-07-04                        M   \n",
       "\n",
       "  Applicant_Occupation Applicant_Qualification Manager_DOJ  ...  \\\n",
       "0               Others                Graduate  2005-11-10  ...   \n",
       "1               Others               Class XII  2005-11-10  ...   \n",
       "2             Business               Class XII  2006-05-27  ...   \n",
       "3             Salaried               Class XII  2003-08-21  ...   \n",
       "4               Others               Class XII  2006-05-08  ...   \n",
       "\n",
       "  Manager_Gender Manager_DoB  Manager_Num_Application Manager_Num_Coded  \\\n",
       "0              M  1978-02-17                      2.0               1.0   \n",
       "1              M  1978-02-17                      2.0               1.0   \n",
       "2              M  1969-03-03                      0.0               0.0   \n",
       "3              F  1978-08-14                      0.0               0.0   \n",
       "4              M  1971-02-07                      2.0               1.0   \n",
       "\n",
       "  Manager_Business Manager_Num_Products  Manager_Business2  \\\n",
       "0         335249.0                 28.0           335249.0   \n",
       "1         335249.0                 28.0           335249.0   \n",
       "2         357184.0                 24.0           357184.0   \n",
       "3         318356.0                 22.0           318356.0   \n",
       "4         230402.0                 17.0           230402.0   \n",
       "\n",
       "   Manager_Num_Products2  Business_Sourced  source  \n",
       "0                   28.0               0.0   train  \n",
       "1                   28.0               1.0   train  \n",
       "2                   24.0               0.0   train  \n",
       "3                   22.0               0.0   train  \n",
       "4                   17.0               0.0   train  \n",
       "\n",
       "[5 rows x 24 columns]"
      ]
     },
     "execution_count": 4,
     "metadata": {},
     "output_type": "execute_result"
    }
   ],
   "source": [
    "data = pd.concat([train,test],ignore_index = True,sort = False)\n",
    "data.head()"
   ]
  },
  {
   "cell_type": "code",
   "execution_count": 5,
   "metadata": {},
   "outputs": [],
   "source": [
    "data_imp = data.copy(deep = True)"
   ]
  },
  {
   "cell_type": "code",
   "execution_count": 6,
   "metadata": {},
   "outputs": [],
   "source": [
    "bool = data_imp['Applicant_BirthDate'] > '1995-01-01'"
   ]
  },
  {
   "cell_type": "code",
   "execution_count": 7,
   "metadata": {},
   "outputs": [],
   "source": [
    "data_imp.loc[bool,'Applicant_BirthDate'] = np.nan"
   ]
  },
  {
   "cell_type": "code",
   "execution_count": 8,
   "metadata": {},
   "outputs": [],
   "source": [
    "#find the year of birth of each applicant to find age and then impute the missing values with average age\n",
    "bool_1 =  data_imp['Applicant_BirthDate'].notnull()\n",
    "year = data_imp.loc[bool_1,'Applicant_BirthDate'].apply(lambda x : int(x.year))"
   ]
  },
  {
   "cell_type": "code",
   "execution_count": 9,
   "metadata": {},
   "outputs": [
    {
     "data": {
      "text/plain": [
       "1974.658191114489"
      ]
     },
     "execution_count": 9,
     "metadata": {},
     "output_type": "execute_result"
    }
   ],
   "source": [
    "np.mean(year)"
   ]
  },
  {
   "cell_type": "code",
   "execution_count": 10,
   "metadata": {},
   "outputs": [],
   "source": [
    "year = 2009 - year\n",
    "data_imp.loc[bool_1,'Applicant_Age'] = year"
   ]
  },
  {
   "cell_type": "code",
   "execution_count": 11,
   "metadata": {},
   "outputs": [
    {
     "data": {
      "text/plain": [
       "34.34180888551095"
      ]
     },
     "execution_count": 11,
     "metadata": {},
     "output_type": "execute_result"
    }
   ],
   "source": [
    "#find average of the applicants to fill the missingvalues\n",
    "np.mean(data_imp.loc[bool_1,'Applicant_Age'])"
   ]
  },
  {
   "cell_type": "code",
   "execution_count": 12,
   "metadata": {},
   "outputs": [
    {
     "data": {
      "text/plain": [
       "Class XII                                                                             7163\n",
       "Graduate                                                                              6571\n",
       "Others                                                                                 303\n",
       "Class X                                                                                244\n",
       "Masters of Business Administration                                                     145\n",
       "Professional Qualification in Marketing                                                  6\n",
       "Associate / Fellow of Institute of Chartered Accountans of India                         5\n",
       "Associate/Fellow of Institute of Company Secretories of India                            1\n",
       "Associate/Fellow of Institute of Institute of Costs and Works Accountants of India       1\n",
       "Associate/Fellow of Acturial Society of India                                            1\n",
       "Associate/Fellow of Insurance Institute of India                                         1\n",
       "Certified Associateship of Indian Institute of Bankers                                   1\n",
       "Name: Applicant_Qualification, dtype: int64"
      ]
     },
     "execution_count": 12,
     "metadata": {},
     "output_type": "execute_result"
    }
   ],
   "source": [
    "data_imp.Applicant_Qualification.value_counts()"
   ]
  },
  {
   "cell_type": "code",
   "execution_count": 13,
   "metadata": {},
   "outputs": [
    {
     "data": {
      "text/plain": [
       "<matplotlib.axes._subplots.AxesSubplot at 0x13da15af6c8>"
      ]
     },
     "execution_count": 13,
     "metadata": {},
     "output_type": "execute_result"
    },
    {
     "data": {
      "image/png": "[encoded data removed]",
      "text/plain": [
       "<Figure size 864x432 with 2 Axes>"
      ]
     },
     "metadata": {
      "needs_background": "light"
     },
     "output_type": "display_data"
    }
   ],
   "source": [
    "plt.figure(figsize = (12,6))\n",
    "sns.heatmap(data_imp.corr(),annot = True)"
   ]
  },
  {
   "cell_type": "code",
   "execution_count": 14,
   "metadata": {},
   "outputs": [],
   "source": [
    "#top_qual = ['Class XII','Graduate','Others','Class X','Masters of Business Administration']"
   ]
  },
  {
   "cell_type": "code",
   "execution_count": 15,
   "metadata": {},
   "outputs": [],
   "source": [
    "#for label in top_qual:\n",
    "#    data_imp[label] = np.where(data_imp['Applicant_Qualification'] == label,1,0)\n"
   ]
  },
  {
   "cell_type": "code",
   "execution_count": 16,
   "metadata": {},
   "outputs": [
    {
     "data": {
      "text/plain": [
       "[Text(0, 0, 'Graduate'),\n",
       " Text(0, 0, 'Class XII'),\n",
       " Text(0, 0, 'Class X'),\n",
       " Text(0, 0, 'Masters of Business Administration'),\n",
       " Text(0, 0, 'Associate/Fellow of Institute of Company Secretories of India'),\n",
       " Text(0, 0, 'Associate / Fellow of Institute of Chartered Accountans of India'),\n",
       " Text(0, 0, 'Others'),\n",
       " Text(0, 0, 'Associate/Fellow of Insurance Institute of India'),\n",
       " Text(0, 0, 'Associate/Fellow of Acturial Society of India'),\n",
       " Text(0, 0, 'Certified Associateship of Indian Institute of Bankers'),\n",
       " Text(0, 0, 'Professional Qualification in Marketing'),\n",
       " Text(0, 0, 'Associate/Fellow of Institute of Institute of Costs and Works Accountants of India')]"
      ]
     },
     "execution_count": 16,
     "metadata": {},
     "output_type": "execute_result"
    },
    {
     "data": {
      "image/png": "[encoded data removed]",
      "text/plain": [
       "<Figure size 864x504 with 4 Axes>"
      ]
     },
     "metadata": {
      "needs_background": "light"
     },
     "output_type": "display_data"
    }
   ],
   "source": [
    "#find out the count plot of applicant gender \n",
    "plt.figure(figsize = (12,7))\n",
    "plt.subplot(2,2,1)\n",
    "sns.countplot(data_imp.Applicant_Gender)\n",
    "plt.subplot(2,2,2)\n",
    "ax = sns.countplot(data_imp.Applicant_Occupation)\n",
    "ax.set_xticklabels(ax.get_xticklabels(),rotation = 30)\n",
    "plt.subplot(2,2,3)\n",
    "sns.countplot(data_imp.Applicant_Marital_Status)\n",
    "plt.subplot(2,2,4)\n",
    "ax = sns.countplot(data_imp.Applicant_Qualification)\n",
    "ax.set_xticklabels(ax.get_xticklabels(),rotation = 90)\n"
   ]
  },
  {
   "cell_type": "markdown",
   "metadata": {},
   "source": [
    "# age and qual trail"
   ]
  },
  {
   "cell_type": "code",
   "execution_count": 17,
   "metadata": {},
   "outputs": [],
   "source": [
    "#experiment between age and qualification, imputing qual based on fixed age 34\n",
    "#te = data_imp.Applicant_Age.notnull()\n",
    "#te_1 = data_imp.loc[te,['Applicant_Qualification','Applicant_Age']]\n",
    "#te_2 = te_1.pivot_table(index = 'Applicant_Age',values = 'Applicant_Qualification',aggfunc = lambda x: mode(x).mode[0])\n",
    "#te_2.loc[34,:]"
   ]
  },
  {
   "cell_type": "code",
   "execution_count": 18,
   "metadata": {},
   "outputs": [],
   "source": [
    "#try for other or unknown\n",
    "data_imp.Applicant_Qualification.fillna('Class XII',inplace = True)"
   ]
  },
  {
   "cell_type": "code",
   "execution_count": null,
   "metadata": {},
   "outputs": [],
   "source": []
  },
  {
   "cell_type": "code",
   "execution_count": 19,
   "metadata": {},
   "outputs": [],
   "source": [
    "grp_by_qual = data_imp.pivot_table(index = 'Applicant_Qualification',values = 'Applicant_Age')"
   ]
  },
  {
   "cell_type": "code",
   "execution_count": 20,
   "metadata": {},
   "outputs": [],
   "source": [
    "grp_by_qual = round(grp_by_qual)"
   ]
  },
  {
   "cell_type": "code",
   "execution_count": 21,
   "metadata": {},
   "outputs": [
    {
     "data": {
      "text/html": [
       "<div>\n",
       "<style scoped>\n",
       "    .dataframe tbody tr th:only-of-type {\n",
       "        vertical-align: middle;\n",
       "    }\n",
       "\n",
       "    .dataframe tbody tr th {\n",
       "        vertical-align: top;\n",
       "    }\n",
       "\n",
       "    .dataframe thead th {\n",
       "        text-align: right;\n",
       "    }\n",
       "</style>\n",
       "<table border=\"1\" class=\"dataframe\">\n",
       "  <thead>\n",
       "    <tr style=\"text-align: right;\">\n",
       "      <th></th>\n",
       "      <th>Applicant_Age</th>\n",
       "    </tr>\n",
       "    <tr>\n",
       "      <th>Applicant_Qualification</th>\n",
       "      <th></th>\n",
       "    </tr>\n",
       "  </thead>\n",
       "  <tbody>\n",
       "    <tr>\n",
       "      <th>Associate / Fellow of Institute of Chartered Accountans of India</th>\n",
       "      <td>40.0</td>\n",
       "    </tr>\n",
       "    <tr>\n",
       "      <th>Associate/Fellow of Acturial Society of India</th>\n",
       "      <td>24.0</td>\n",
       "    </tr>\n",
       "    <tr>\n",
       "      <th>Associate/Fellow of Institute of Company Secretories of India</th>\n",
       "      <td>65.0</td>\n",
       "    </tr>\n",
       "    <tr>\n",
       "      <th>Associate/Fellow of Institute of Institute of Costs and Works Accountants of India</th>\n",
       "      <td>22.0</td>\n",
       "    </tr>\n",
       "    <tr>\n",
       "      <th>Associate/Fellow of Insurance Institute of India</th>\n",
       "      <td>35.0</td>\n",
       "    </tr>\n",
       "    <tr>\n",
       "      <th>Certified Associateship of Indian Institute of Bankers</th>\n",
       "      <td>28.0</td>\n",
       "    </tr>\n",
       "    <tr>\n",
       "      <th>Class X</th>\n",
       "      <td>34.0</td>\n",
       "    </tr>\n",
       "    <tr>\n",
       "      <th>Class XII</th>\n",
       "      <td>34.0</td>\n",
       "    </tr>\n",
       "    <tr>\n",
       "      <th>Graduate</th>\n",
       "      <td>35.0</td>\n",
       "    </tr>\n",
       "    <tr>\n",
       "      <th>Masters of Business Administration</th>\n",
       "      <td>34.0</td>\n",
       "    </tr>\n",
       "    <tr>\n",
       "      <th>Others</th>\n",
       "      <td>36.0</td>\n",
       "    </tr>\n",
       "    <tr>\n",
       "      <th>Professional Qualification in Marketing</th>\n",
       "      <td>32.0</td>\n",
       "    </tr>\n",
       "  </tbody>\n",
       "</table>\n",
       "</div>"
      ],
      "text/plain": [
       "                                                    Applicant_Age\n",
       "Applicant_Qualification                                          \n",
       "Associate / Fellow of Institute of Chartered Ac...           40.0\n",
       "Associate/Fellow of Acturial Society of India                24.0\n",
       "Associate/Fellow of Institute of Company Secret...           65.0\n",
       "Associate/Fellow of Institute of Institute of C...           22.0\n",
       "Associate/Fellow of Insurance Institute of India             35.0\n",
       "Certified Associateship of Indian Institute of ...           28.0\n",
       "Class X                                                      34.0\n",
       "Class XII                                                    34.0\n",
       "Graduate                                                     35.0\n",
       "Masters of Business Administration                           34.0\n",
       "Others                                                       36.0\n",
       "Professional Qualification in Marketing                      32.0"
      ]
     },
     "execution_count": 21,
     "metadata": {},
     "output_type": "execute_result"
    }
   ],
   "source": [
    "grp_by_qual"
   ]
  },
  {
   "cell_type": "code",
   "execution_count": 22,
   "metadata": {},
   "outputs": [],
   "source": [
    "bool_2 = data_imp.Applicant_Age.isnull()\n",
    "data_imp.loc[bool_2,'Applicant_Age'] = data_imp.loc[bool_2,'Applicant_Qualification'].apply(lambda x : grp_by_qual.loc[x])"
   ]
  },
  {
   "cell_type": "code",
   "execution_count": 23,
   "metadata": {},
   "outputs": [],
   "source": [
    "data_imp['Application_Month'] = data_imp.loc[:,'Application_Receipt_Date'].apply(lambda x : int(x.month))"
   ]
  },
  {
   "cell_type": "code",
   "execution_count": 24,
   "metadata": {},
   "outputs": [
    {
     "data": {
      "text/plain": [
       "M    11079\n",
       "F     3404\n",
       "Name: Applicant_Gender, dtype: int64"
      ]
     },
     "execution_count": 24,
     "metadata": {},
     "output_type": "execute_result"
    }
   ],
   "source": [
    "data_imp.Applicant_Gender.value_counts()"
   ]
  },
  {
   "cell_type": "code",
   "execution_count": 25,
   "metadata": {},
   "outputs": [],
   "source": [
    "data_imp.Applicant_Gender.fillna('M',inplace = True)"
   ]
  },
  {
   "cell_type": "code",
   "execution_count": 26,
   "metadata": {},
   "outputs": [
    {
     "data": {
      "text/plain": [
       "M    10266\n",
       "S     4174\n",
       "W       18\n",
       "D       11\n",
       "Name: Applicant_Marital_Status, dtype: int64"
      ]
     },
     "execution_count": 26,
     "metadata": {},
     "output_type": "execute_result"
    }
   ],
   "source": [
    "data_imp.Applicant_Marital_Status.value_counts()"
   ]
  },
  {
   "cell_type": "code",
   "execution_count": 27,
   "metadata": {},
   "outputs": [
    {
     "data": {
      "text/html": [
       "<div>\n",
       "<style scoped>\n",
       "    .dataframe tbody tr th:only-of-type {\n",
       "        vertical-align: middle;\n",
       "    }\n",
       "\n",
       "    .dataframe tbody tr th {\n",
       "        vertical-align: top;\n",
       "    }\n",
       "\n",
       "    .dataframe thead th {\n",
       "        text-align: right;\n",
       "    }\n",
       "</style>\n",
       "<table border=\"1\" class=\"dataframe\">\n",
       "  <thead>\n",
       "    <tr style=\"text-align: right;\">\n",
       "      <th></th>\n",
       "      <th>Applicant_Age</th>\n",
       "    </tr>\n",
       "    <tr>\n",
       "      <th>Applicant_Marital_Status</th>\n",
       "      <th></th>\n",
       "    </tr>\n",
       "  </thead>\n",
       "  <tbody>\n",
       "    <tr>\n",
       "      <th>D</th>\n",
       "      <td>40.000000</td>\n",
       "    </tr>\n",
       "    <tr>\n",
       "      <th>M</th>\n",
       "      <td>37.118157</td>\n",
       "    </tr>\n",
       "    <tr>\n",
       "      <th>S</th>\n",
       "      <td>27.452803</td>\n",
       "    </tr>\n",
       "    <tr>\n",
       "      <th>W</th>\n",
       "      <td>43.000000</td>\n",
       "    </tr>\n",
       "  </tbody>\n",
       "</table>\n",
       "</div>"
      ],
      "text/plain": [
       "                          Applicant_Age\n",
       "Applicant_Marital_Status               \n",
       "D                             40.000000\n",
       "M                             37.118157\n",
       "S                             27.452803\n",
       "W                             43.000000"
      ]
     },
     "execution_count": 27,
     "metadata": {},
     "output_type": "execute_result"
    }
   ],
   "source": [
    "data_imp.pivot_table(index = 'Applicant_Marital_Status',values = 'Applicant_Age')#aggfunc = lambda x: mode(x).mode[0])"
   ]
  },
  {
   "cell_type": "code",
   "execution_count": 28,
   "metadata": {},
   "outputs": [],
   "source": [
    "def find_marital_status(x):\n",
    "    if x < 30:\n",
    "        return 'S'\n",
    "    elif x >= 30 :\n",
    "        return 'M'"
   ]
  },
  {
   "cell_type": "code",
   "execution_count": 29,
   "metadata": {},
   "outputs": [],
   "source": [
    "bool_3 = data_imp.Applicant_Marital_Status.isnull()\n",
    "data_imp.loc[bool_3,'Applicant_Marital_Status'] = data_imp.loc[bool_3,'Applicant_Age'].apply(lambda x : find_marital_status(x))"
   ]
  },
  {
   "cell_type": "code",
   "execution_count": 30,
   "metadata": {},
   "outputs": [
    {
     "data": {
      "text/plain": [
       "Salaried         6347\n",
       "Business         2949\n",
       "Others           2472\n",
       "Self Employed     459\n",
       "Student           120\n",
       "Name: Applicant_Occupation, dtype: int64"
      ]
     },
     "execution_count": 30,
     "metadata": {},
     "output_type": "execute_result"
    }
   ],
   "source": [
    "data_imp.Applicant_Occupation.value_counts()"
   ]
  },
  {
   "cell_type": "code",
   "execution_count": 31,
   "metadata": {},
   "outputs": [],
   "source": [
    "from scipy.stats import mode\n",
    "app_occupation = data_imp.pivot_table(index = 'Applicant_Qualification',values = 'Applicant_Occupation',aggfunc = lambda x : mode(x).mode[0])"
   ]
  },
  {
   "cell_type": "code",
   "execution_count": 32,
   "metadata": {},
   "outputs": [
    {
     "data": {
      "text/html": [
       "<div>\n",
       "<style scoped>\n",
       "    .dataframe tbody tr th:only-of-type {\n",
       "        vertical-align: middle;\n",
       "    }\n",
       "\n",
       "    .dataframe tbody tr th {\n",
       "        vertical-align: top;\n",
       "    }\n",
       "\n",
       "    .dataframe thead th {\n",
       "        text-align: right;\n",
       "    }\n",
       "</style>\n",
       "<table border=\"1\" class=\"dataframe\">\n",
       "  <thead>\n",
       "    <tr style=\"text-align: right;\">\n",
       "      <th></th>\n",
       "      <th>Applicant_Occupation</th>\n",
       "    </tr>\n",
       "    <tr>\n",
       "      <th>Applicant_Qualification</th>\n",
       "      <th></th>\n",
       "    </tr>\n",
       "  </thead>\n",
       "  <tbody>\n",
       "    <tr>\n",
       "      <th>Associate / Fellow of Institute of Chartered Accountans of India</th>\n",
       "      <td>Business</td>\n",
       "    </tr>\n",
       "    <tr>\n",
       "      <th>Associate/Fellow of Acturial Society of India</th>\n",
       "      <td>Salaried</td>\n",
       "    </tr>\n",
       "    <tr>\n",
       "      <th>Associate/Fellow of Institute of Company Secretories of India</th>\n",
       "      <td>Salaried</td>\n",
       "    </tr>\n",
       "    <tr>\n",
       "      <th>Associate/Fellow of Institute of Institute of Costs and Works Accountants of India</th>\n",
       "      <td>Business</td>\n",
       "    </tr>\n",
       "    <tr>\n",
       "      <th>Associate/Fellow of Insurance Institute of India</th>\n",
       "      <td>Salaried</td>\n",
       "    </tr>\n",
       "    <tr>\n",
       "      <th>Certified Associateship of Indian Institute of Bankers</th>\n",
       "      <td>Others</td>\n",
       "    </tr>\n",
       "    <tr>\n",
       "      <th>Class X</th>\n",
       "      <td>Salaried</td>\n",
       "    </tr>\n",
       "    <tr>\n",
       "      <th>Class XII</th>\n",
       "      <td>Salaried</td>\n",
       "    </tr>\n",
       "    <tr>\n",
       "      <th>Graduate</th>\n",
       "      <td>Salaried</td>\n",
       "    </tr>\n",
       "    <tr>\n",
       "      <th>Masters of Business Administration</th>\n",
       "      <td>Salaried</td>\n",
       "    </tr>\n",
       "    <tr>\n",
       "      <th>Others</th>\n",
       "      <td>Salaried</td>\n",
       "    </tr>\n",
       "    <tr>\n",
       "      <th>Professional Qualification in Marketing</th>\n",
       "      <td>Others</td>\n",
       "    </tr>\n",
       "  </tbody>\n",
       "</table>\n",
       "</div>"
      ],
      "text/plain": [
       "                                                   Applicant_Occupation\n",
       "Applicant_Qualification                                                \n",
       "Associate / Fellow of Institute of Chartered Ac...             Business\n",
       "Associate/Fellow of Acturial Society of India                  Salaried\n",
       "Associate/Fellow of Institute of Company Secret...             Salaried\n",
       "Associate/Fellow of Institute of Institute of C...             Business\n",
       "Associate/Fellow of Insurance Institute of India               Salaried\n",
       "Certified Associateship of Indian Institute of ...               Others\n",
       "Class X                                                        Salaried\n",
       "Class XII                                                      Salaried\n",
       "Graduate                                                       Salaried\n",
       "Masters of Business Administration                             Salaried\n",
       "Others                                                         Salaried\n",
       "Professional Qualification in Marketing                          Others"
      ]
     },
     "execution_count": 32,
     "metadata": {},
     "output_type": "execute_result"
    }
   ],
   "source": [
    "app_occupation"
   ]
  },
  {
   "cell_type": "code",
   "execution_count": 33,
   "metadata": {},
   "outputs": [],
   "source": [
    "bool_4 = data_imp.Applicant_Occupation.isnull()\n",
    "data_imp.loc[bool_4,'Applicant_Occupation'] = data_imp.loc[bool_4,'Applicant_Qualification'].apply(lambda x : app_occupation.loc[x])"
   ]
  },
  {
   "cell_type": "code",
   "execution_count": 34,
   "metadata": {},
   "outputs": [
    {
     "name": "stdout",
     "output_type": "stream",
     "text": [
      "<class 'pandas.core.frame.DataFrame'>\n",
      "RangeIndex: 14572 entries, 0 to 14571\n",
      "Data columns (total 26 columns):\n",
      " #   Column                       Non-Null Count  Dtype         \n",
      "---  ------                       --------------  -----         \n",
      " 0   ID                           14572 non-null  object        \n",
      " 1   Office_PIN                   14572 non-null  int64         \n",
      " 2   Application_Receipt_Date     14572 non-null  datetime64[ns]\n",
      " 3   Applicant_City_PIN           14441 non-null  float64       \n",
      " 4   Applicant_Gender             14572 non-null  object        \n",
      " 5   Applicant_BirthDate          14473 non-null  datetime64[ns]\n",
      " 6   Applicant_Marital_Status     14572 non-null  object        \n",
      " 7   Applicant_Occupation         14572 non-null  object        \n",
      " 8   Applicant_Qualification      14572 non-null  object        \n",
      " 9   Manager_DOJ                  13065 non-null  datetime64[ns]\n",
      " 10  Manager_Joining_Designation  13065 non-null  object        \n",
      " 11  Manager_Current_Designation  13065 non-null  object        \n",
      " 12  Manager_Grade                13065 non-null  float64       \n",
      " 13  Manager_Status               13065 non-null  object        \n",
      " 14  Manager_Gender               13065 non-null  object        \n",
      " 15  Manager_DoB                  13065 non-null  datetime64[ns]\n",
      " 16  Manager_Num_Application      13065 non-null  float64       \n",
      " 17  Manager_Num_Coded            13065 non-null  float64       \n",
      " 18  Manager_Business             13065 non-null  float64       \n",
      " 19  Manager_Num_Products         13065 non-null  float64       \n",
      " 20  Manager_Business2            13065 non-null  float64       \n",
      " 21  Manager_Num_Products2        13065 non-null  float64       \n",
      " 22  Business_Sourced             9527 non-null   float64       \n",
      " 23  source                       14572 non-null  object        \n",
      " 24  Applicant_Age                14572 non-null  float64       \n",
      " 25  Application_Month            14572 non-null  int64         \n",
      "dtypes: datetime64[ns](4), float64(10), int64(2), object(10)\n",
      "memory usage: 2.9+ MB\n"
     ]
    }
   ],
   "source": [
    "data_imp.info()"
   ]
  },
  {
   "cell_type": "code",
   "execution_count": 35,
   "metadata": {},
   "outputs": [],
   "source": [
    "manager = data_imp.loc[data_imp.Manager_DOJ.isnull(),['Manager_DOJ','Manager_Joining_Designation','Manager_Current_Designation',\n",
    "                                           'Manager_Grade','Manager_Status','Manager_Gender','Manager_DoB',\n",
    "                                           'Manager_Num_Application','Manager_Num_Coded','Manager_Business',\n",
    "                                            'Manager_Num_Products']]"
   ]
  },
  {
   "cell_type": "code",
   "execution_count": 36,
   "metadata": {},
   "outputs": [
    {
     "data": {
      "text/html": [
       "<div>\n",
       "<style scoped>\n",
       "    .dataframe tbody tr th:only-of-type {\n",
       "        vertical-align: middle;\n",
       "    }\n",
       "\n",
       "    .dataframe tbody tr th {\n",
       "        vertical-align: top;\n",
       "    }\n",
       "\n",
       "    .dataframe thead th {\n",
       "        text-align: right;\n",
       "    }\n",
       "</style>\n",
       "<table border=\"1\" class=\"dataframe\">\n",
       "  <thead>\n",
       "    <tr style=\"text-align: right;\">\n",
       "      <th></th>\n",
       "      <th>Manager_DOJ</th>\n",
       "      <th>Manager_Joining_Designation</th>\n",
       "      <th>Manager_Current_Designation</th>\n",
       "      <th>Manager_Grade</th>\n",
       "      <th>Manager_Status</th>\n",
       "      <th>Manager_Gender</th>\n",
       "      <th>Manager_DoB</th>\n",
       "      <th>Manager_Num_Application</th>\n",
       "      <th>Manager_Num_Coded</th>\n",
       "      <th>Manager_Business</th>\n",
       "      <th>Manager_Num_Products</th>\n",
       "    </tr>\n",
       "  </thead>\n",
       "  <tbody>\n",
       "    <tr>\n",
       "      <th>24</th>\n",
       "      <td>NaT</td>\n",
       "      <td>NaN</td>\n",
       "      <td>NaN</td>\n",
       "      <td>NaN</td>\n",
       "      <td>NaN</td>\n",
       "      <td>NaN</td>\n",
       "      <td>NaT</td>\n",
       "      <td>NaN</td>\n",
       "      <td>NaN</td>\n",
       "      <td>NaN</td>\n",
       "      <td>NaN</td>\n",
       "    </tr>\n",
       "    <tr>\n",
       "      <th>34</th>\n",
       "      <td>NaT</td>\n",
       "      <td>NaN</td>\n",
       "      <td>NaN</td>\n",
       "      <td>NaN</td>\n",
       "      <td>NaN</td>\n",
       "      <td>NaN</td>\n",
       "      <td>NaT</td>\n",
       "      <td>NaN</td>\n",
       "      <td>NaN</td>\n",
       "      <td>NaN</td>\n",
       "      <td>NaN</td>\n",
       "    </tr>\n",
       "    <tr>\n",
       "      <th>53</th>\n",
       "      <td>NaT</td>\n",
       "      <td>NaN</td>\n",
       "      <td>NaN</td>\n",
       "      <td>NaN</td>\n",
       "      <td>NaN</td>\n",
       "      <td>NaN</td>\n",
       "      <td>NaT</td>\n",
       "      <td>NaN</td>\n",
       "      <td>NaN</td>\n",
       "      <td>NaN</td>\n",
       "      <td>NaN</td>\n",
       "    </tr>\n",
       "    <tr>\n",
       "      <th>54</th>\n",
       "      <td>NaT</td>\n",
       "      <td>NaN</td>\n",
       "      <td>NaN</td>\n",
       "      <td>NaN</td>\n",
       "      <td>NaN</td>\n",
       "      <td>NaN</td>\n",
       "      <td>NaT</td>\n",
       "      <td>NaN</td>\n",
       "      <td>NaN</td>\n",
       "      <td>NaN</td>\n",
       "      <td>NaN</td>\n",
       "    </tr>\n",
       "    <tr>\n",
       "      <th>83</th>\n",
       "      <td>NaT</td>\n",
       "      <td>NaN</td>\n",
       "      <td>NaN</td>\n",
       "      <td>NaN</td>\n",
       "      <td>NaN</td>\n",
       "      <td>NaN</td>\n",
       "      <td>NaT</td>\n",
       "      <td>NaN</td>\n",
       "      <td>NaN</td>\n",
       "      <td>NaN</td>\n",
       "      <td>NaN</td>\n",
       "    </tr>\n",
       "    <tr>\n",
       "      <th>...</th>\n",
       "      <td>...</td>\n",
       "      <td>...</td>\n",
       "      <td>...</td>\n",
       "      <td>...</td>\n",
       "      <td>...</td>\n",
       "      <td>...</td>\n",
       "      <td>...</td>\n",
       "      <td>...</td>\n",
       "      <td>...</td>\n",
       "      <td>...</td>\n",
       "      <td>...</td>\n",
       "    </tr>\n",
       "    <tr>\n",
       "      <th>14546</th>\n",
       "      <td>NaT</td>\n",
       "      <td>NaN</td>\n",
       "      <td>NaN</td>\n",
       "      <td>NaN</td>\n",
       "      <td>NaN</td>\n",
       "      <td>NaN</td>\n",
       "      <td>NaT</td>\n",
       "      <td>NaN</td>\n",
       "      <td>NaN</td>\n",
       "      <td>NaN</td>\n",
       "      <td>NaN</td>\n",
       "    </tr>\n",
       "    <tr>\n",
       "      <th>14547</th>\n",
       "      <td>NaT</td>\n",
       "      <td>NaN</td>\n",
       "      <td>NaN</td>\n",
       "      <td>NaN</td>\n",
       "      <td>NaN</td>\n",
       "      <td>NaN</td>\n",
       "      <td>NaT</td>\n",
       "      <td>NaN</td>\n",
       "      <td>NaN</td>\n",
       "      <td>NaN</td>\n",
       "      <td>NaN</td>\n",
       "    </tr>\n",
       "    <tr>\n",
       "      <th>14550</th>\n",
       "      <td>NaT</td>\n",
       "      <td>NaN</td>\n",
       "      <td>NaN</td>\n",
       "      <td>NaN</td>\n",
       "      <td>NaN</td>\n",
       "      <td>NaN</td>\n",
       "      <td>NaT</td>\n",
       "      <td>NaN</td>\n",
       "      <td>NaN</td>\n",
       "      <td>NaN</td>\n",
       "      <td>NaN</td>\n",
       "    </tr>\n",
       "    <tr>\n",
       "      <th>14556</th>\n",
       "      <td>NaT</td>\n",
       "      <td>NaN</td>\n",
       "      <td>NaN</td>\n",
       "      <td>NaN</td>\n",
       "      <td>NaN</td>\n",
       "      <td>NaN</td>\n",
       "      <td>NaT</td>\n",
       "      <td>NaN</td>\n",
       "      <td>NaN</td>\n",
       "      <td>NaN</td>\n",
       "      <td>NaN</td>\n",
       "    </tr>\n",
       "    <tr>\n",
       "      <th>14560</th>\n",
       "      <td>NaT</td>\n",
       "      <td>NaN</td>\n",
       "      <td>NaN</td>\n",
       "      <td>NaN</td>\n",
       "      <td>NaN</td>\n",
       "      <td>NaN</td>\n",
       "      <td>NaT</td>\n",
       "      <td>NaN</td>\n",
       "      <td>NaN</td>\n",
       "      <td>NaN</td>\n",
       "      <td>NaN</td>\n",
       "    </tr>\n",
       "  </tbody>\n",
       "</table>\n",
       "<p>1507 rows × 11 columns</p>\n",
       "</div>"
      ],
      "text/plain": [
       "      Manager_DOJ Manager_Joining_Designation Manager_Current_Designation  \\\n",
       "24            NaT                         NaN                         NaN   \n",
       "34            NaT                         NaN                         NaN   \n",
       "53            NaT                         NaN                         NaN   \n",
       "54            NaT                         NaN                         NaN   \n",
       "83            NaT                         NaN                         NaN   \n",
       "...           ...                         ...                         ...   \n",
       "14546         NaT                         NaN                         NaN   \n",
       "14547         NaT                         NaN                         NaN   \n",
       "14550         NaT                         NaN                         NaN   \n",
       "14556         NaT                         NaN                         NaN   \n",
       "14560         NaT                         NaN                         NaN   \n",
       "\n",
       "       Manager_Grade Manager_Status Manager_Gender Manager_DoB  \\\n",
       "24               NaN            NaN            NaN         NaT   \n",
       "34               NaN            NaN            NaN         NaT   \n",
       "53               NaN            NaN            NaN         NaT   \n",
       "54               NaN            NaN            NaN         NaT   \n",
       "83               NaN            NaN            NaN         NaT   \n",
       "...              ...            ...            ...         ...   \n",
       "14546            NaN            NaN            NaN         NaT   \n",
       "14547            NaN            NaN            NaN         NaT   \n",
       "14550            NaN            NaN            NaN         NaT   \n",
       "14556            NaN            NaN            NaN         NaT   \n",
       "14560            NaN            NaN            NaN         NaT   \n",
       "\n",
       "       Manager_Num_Application  Manager_Num_Coded  Manager_Business  \\\n",
       "24                         NaN                NaN               NaN   \n",
       "34                         NaN                NaN               NaN   \n",
       "53                         NaN                NaN               NaN   \n",
       "54                         NaN                NaN               NaN   \n",
       "83                         NaN                NaN               NaN   \n",
       "...                        ...                ...               ...   \n",
       "14546                      NaN                NaN               NaN   \n",
       "14547                      NaN                NaN               NaN   \n",
       "14550                      NaN                NaN               NaN   \n",
       "14556                      NaN                NaN               NaN   \n",
       "14560                      NaN                NaN               NaN   \n",
       "\n",
       "       Manager_Num_Products  \n",
       "24                      NaN  \n",
       "34                      NaN  \n",
       "53                      NaN  \n",
       "54                      NaN  \n",
       "83                      NaN  \n",
       "...                     ...  \n",
       "14546                   NaN  \n",
       "14547                   NaN  \n",
       "14550                   NaN  \n",
       "14556                   NaN  \n",
       "14560                   NaN  \n",
       "\n",
       "[1507 rows x 11 columns]"
      ]
     },
     "execution_count": 36,
     "metadata": {},
     "output_type": "execute_result"
    }
   ],
   "source": [
    "manager"
   ]
  },
  {
   "cell_type": "code",
   "execution_count": 37,
   "metadata": {},
   "outputs": [],
   "source": [
    "#mlist = ['Manager_DOJ','Manager_Joining_Designation','Manager_Current_Designation',\n",
    "#                                           'Manager_Grade','Manager_Status','Manager_Gender','Manager_DoB',\n",
    "#                                           'Manager_Num_Application','Manager_Num_Coded','Manager_Business',\n",
    "#                                            'Manager_Num_Products']"
   ]
  },
  {
   "cell_type": "code",
   "execution_count": 38,
   "metadata": {},
   "outputs": [],
   "source": [
    "#calculating manager experience from DOJ and imputing missing values with average experience\n",
    "bool_5 =  data_imp['Manager_DOJ'].notnull()\n",
    "year_2 = data_imp.loc[bool_5,'Manager_DOJ'].apply(lambda x : int(x.year))\n",
    "year_2 = 2009 - year_2\n",
    "data_imp.loc[bool_5,'Manager_EXP'] = year_2"
   ]
  },
  {
   "cell_type": "code",
   "execution_count": 39,
   "metadata": {},
   "outputs": [
    {
     "data": {
      "text/plain": [
       "count    13065.000000\n",
       "mean         2.854956\n",
       "std          1.888911\n",
       "min          1.000000\n",
       "25%          1.000000\n",
       "50%          2.000000\n",
       "75%          4.000000\n",
       "max          8.000000\n",
       "Name: Manager_EXP, dtype: float64"
      ]
     },
     "execution_count": 39,
     "metadata": {},
     "output_type": "execute_result"
    }
   ],
   "source": [
    "data_imp.Manager_EXP.describe()"
   ]
  },
  {
   "cell_type": "code",
   "execution_count": 40,
   "metadata": {},
   "outputs": [],
   "source": [
    "#calculating manager age from DOB and imputing missing values with average age\n",
    "bool_6 =  data_imp['Manager_DoB'].notnull()\n",
    "year_3 = data_imp.loc[bool_6,'Manager_DoB'].apply(lambda x : int(x.year))\n",
    "year_3 = 2009 - year_3\n",
    "data_imp.loc[bool_6,'Manager_Age'] = year_3"
   ]
  },
  {
   "cell_type": "code",
   "execution_count": 41,
   "metadata": {},
   "outputs": [
    {
     "data": {
      "text/plain": [
       "count    13065.000000\n",
       "mean        35.827095\n",
       "std          6.222136\n",
       "min         22.000000\n",
       "25%         31.000000\n",
       "50%         35.000000\n",
       "75%         40.000000\n",
       "max         60.000000\n",
       "Name: Manager_Age, dtype: float64"
      ]
     },
     "execution_count": 41,
     "metadata": {},
     "output_type": "execute_result"
    }
   ],
   "source": [
    "data_imp.Manager_Age.describe()"
   ]
  },
  {
   "cell_type": "code",
   "execution_count": 42,
   "metadata": {},
   "outputs": [
    {
     "data": {
      "text/plain": [
       "[Text(0, 0, 'Confirmation'), Text(0, 0, 'Probation')]"
      ]
     },
     "execution_count": 42,
     "metadata": {},
     "output_type": "execute_result"
    },
    {
     "data": {
      "image/png": "[encoded data removed]",
      "text/plain": [
       "<Figure size 864x504 with 4 Axes>"
      ]
     },
     "metadata": {
      "needs_background": "light"
     },
     "output_type": "display_data"
    }
   ],
   "source": [
    "#find out the count plot of applicant gender \n",
    "plt.figure(figsize = (12,7))\n",
    "plt.subplot(2,2,1)\n",
    "sns.countplot(data_imp.Manager_Joining_Designation)\n",
    "plt.subplot(2,2,2)\n",
    "ax = sns.countplot(data_imp.Manager_Current_Designation)\n",
    "ax.set_xticklabels(ax.get_xticklabels(),rotation = 30)\n",
    "plt.subplot(2,2,3)\n",
    "sns.countplot(data_imp.Manager_Grade)\n",
    "plt.subplot(2,2,4)\n",
    "ax = sns.countplot(data_imp.Manager_Status)\n",
    "ax.set_xticklabels(ax.get_xticklabels(),rotation = 90)"
   ]
  },
  {
   "cell_type": "code",
   "execution_count": 43,
   "metadata": {},
   "outputs": [],
   "source": [
    "#bool_7 = data_imp.Manager_Age.isnull()"
   ]
  },
  {
   "cell_type": "code",
   "execution_count": 44,
   "metadata": {},
   "outputs": [],
   "source": [
    "#manager_age = round(data_imp.pivot_table(index = 'Applicant_Qualification',values = 'Manager_Age'))\n",
    "#manager_age.loc['Certified Associateship of Indian Institute of Bankers'] = 35"
   ]
  },
  {
   "cell_type": "code",
   "execution_count": 45,
   "metadata": {},
   "outputs": [],
   "source": [
    "#bool_8 = data_imp.Manager_Age.isnull()\n",
    "#data_imp.loc[bool_8,\"Manager_Age\"] =  data_imp.loc[bool_8,'Applicant_Qualification'].apply(lambda x : manager_age.loc[x])"
   ]
  },
  {
   "cell_type": "code",
   "execution_count": 46,
   "metadata": {},
   "outputs": [],
   "source": [
    "#round(data_imp.pivot_table(index = 'Applicant_Qualification',values = 'Manager_EXP'))"
   ]
  },
  {
   "cell_type": "code",
   "execution_count": 47,
   "metadata": {},
   "outputs": [],
   "source": [
    "manager_curr_desig = data_imp.pivot_table(index = 'Applicant_Qualification',values = 'Manager_Current_Designation',aggfunc = lambda x: mode(x).mode[0])\n",
    "manager_curr_desig.loc['Certified Associateship of Indian Institute of Bankers'] = 'Level 2'"
   ]
  },
  {
   "cell_type": "code",
   "execution_count": 48,
   "metadata": {},
   "outputs": [
    {
     "data": {
      "text/html": [
       "<div>\n",
       "<style scoped>\n",
       "    .dataframe tbody tr th:only-of-type {\n",
       "        vertical-align: middle;\n",
       "    }\n",
       "\n",
       "    .dataframe tbody tr th {\n",
       "        vertical-align: top;\n",
       "    }\n",
       "\n",
       "    .dataframe thead th {\n",
       "        text-align: right;\n",
       "    }\n",
       "</style>\n",
       "<table border=\"1\" class=\"dataframe\">\n",
       "  <thead>\n",
       "    <tr style=\"text-align: right;\">\n",
       "      <th></th>\n",
       "      <th>Manager_Current_Designation</th>\n",
       "    </tr>\n",
       "    <tr>\n",
       "      <th>Applicant_Qualification</th>\n",
       "      <th></th>\n",
       "    </tr>\n",
       "  </thead>\n",
       "  <tbody>\n",
       "    <tr>\n",
       "      <th>Associate / Fellow of Institute of Chartered Accountans of India</th>\n",
       "      <td>Level 3</td>\n",
       "    </tr>\n",
       "    <tr>\n",
       "      <th>Associate/Fellow of Acturial Society of India</th>\n",
       "      <td>Level 2</td>\n",
       "    </tr>\n",
       "    <tr>\n",
       "      <th>Associate/Fellow of Institute of Company Secretories of India</th>\n",
       "      <td>Level 2</td>\n",
       "    </tr>\n",
       "    <tr>\n",
       "      <th>Associate/Fellow of Institute of Institute of Costs and Works Accountants of India</th>\n",
       "      <td>Level 3</td>\n",
       "    </tr>\n",
       "    <tr>\n",
       "      <th>Associate/Fellow of Insurance Institute of India</th>\n",
       "      <td>Level 2</td>\n",
       "    </tr>\n",
       "    <tr>\n",
       "      <th>Certified Associateship of Indian Institute of Bankers</th>\n",
       "      <td>Level 2</td>\n",
       "    </tr>\n",
       "    <tr>\n",
       "      <th>Class X</th>\n",
       "      <td>Level 2</td>\n",
       "    </tr>\n",
       "    <tr>\n",
       "      <th>Class XII</th>\n",
       "      <td>Level 2</td>\n",
       "    </tr>\n",
       "    <tr>\n",
       "      <th>Graduate</th>\n",
       "      <td>Level 2</td>\n",
       "    </tr>\n",
       "    <tr>\n",
       "      <th>Masters of Business Administration</th>\n",
       "      <td>Level 3</td>\n",
       "    </tr>\n",
       "    <tr>\n",
       "      <th>Others</th>\n",
       "      <td>Level 3</td>\n",
       "    </tr>\n",
       "    <tr>\n",
       "      <th>Professional Qualification in Marketing</th>\n",
       "      <td>Level 3</td>\n",
       "    </tr>\n",
       "  </tbody>\n",
       "</table>\n",
       "</div>"
      ],
      "text/plain": [
       "                                                   Manager_Current_Designation\n",
       "Applicant_Qualification                                                       \n",
       "Associate / Fellow of Institute of Chartered Ac...                     Level 3\n",
       "Associate/Fellow of Acturial Society of India                          Level 2\n",
       "Associate/Fellow of Institute of Company Secret...                     Level 2\n",
       "Associate/Fellow of Institute of Institute of C...                     Level 3\n",
       "Associate/Fellow of Insurance Institute of India                       Level 2\n",
       "Certified Associateship of Indian Institute of ...                     Level 2\n",
       "Class X                                                                Level 2\n",
       "Class XII                                                              Level 2\n",
       "Graduate                                                               Level 2\n",
       "Masters of Business Administration                                     Level 3\n",
       "Others                                                                 Level 3\n",
       "Professional Qualification in Marketing                                Level 3"
      ]
     },
     "execution_count": 48,
     "metadata": {},
     "output_type": "execute_result"
    }
   ],
   "source": [
    "manager_curr_desig"
   ]
  },
  {
   "cell_type": "code",
   "execution_count": 49,
   "metadata": {},
   "outputs": [],
   "source": [
    "bool_7 = data_imp.Manager_Current_Designation.isnull()\n",
    "data_imp.loc[bool_7,\"Manager_Current_Designation\"] =  data_imp.loc[bool_7,'Applicant_Qualification'].apply(lambda x : manager_curr_desig.loc[x])"
   ]
  },
  {
   "cell_type": "code",
   "execution_count": 50,
   "metadata": {},
   "outputs": [],
   "source": [
    "manager_join_desig = data_imp.pivot_table(index = 'Manager_Current_Designation',values = 'Manager_Joining_Designation',aggfunc = lambda x: mode(x).mode[0])"
   ]
  },
  {
   "cell_type": "code",
   "execution_count": 51,
   "metadata": {},
   "outputs": [
    {
     "data": {
      "text/html": [
       "<div>\n",
       "<style scoped>\n",
       "    .dataframe tbody tr th:only-of-type {\n",
       "        vertical-align: middle;\n",
       "    }\n",
       "\n",
       "    .dataframe tbody tr th {\n",
       "        vertical-align: top;\n",
       "    }\n",
       "\n",
       "    .dataframe thead th {\n",
       "        text-align: right;\n",
       "    }\n",
       "</style>\n",
       "<table border=\"1\" class=\"dataframe\">\n",
       "  <thead>\n",
       "    <tr style=\"text-align: right;\">\n",
       "      <th></th>\n",
       "      <th>Manager_Joining_Designation</th>\n",
       "    </tr>\n",
       "    <tr>\n",
       "      <th>Manager_Current_Designation</th>\n",
       "      <th></th>\n",
       "    </tr>\n",
       "  </thead>\n",
       "  <tbody>\n",
       "    <tr>\n",
       "      <th>Level 1</th>\n",
       "      <td>Level 1</td>\n",
       "    </tr>\n",
       "    <tr>\n",
       "      <th>Level 2</th>\n",
       "      <td>Level 2</td>\n",
       "    </tr>\n",
       "    <tr>\n",
       "      <th>Level 3</th>\n",
       "      <td>Level 3</td>\n",
       "    </tr>\n",
       "    <tr>\n",
       "      <th>Level 4</th>\n",
       "      <td>Level 2</td>\n",
       "    </tr>\n",
       "    <tr>\n",
       "      <th>Level 5</th>\n",
       "      <td>Level 2</td>\n",
       "    </tr>\n",
       "  </tbody>\n",
       "</table>\n",
       "</div>"
      ],
      "text/plain": [
       "                            Manager_Joining_Designation\n",
       "Manager_Current_Designation                            \n",
       "Level 1                                         Level 1\n",
       "Level 2                                         Level 2\n",
       "Level 3                                         Level 3\n",
       "Level 4                                         Level 2\n",
       "Level 5                                         Level 2"
      ]
     },
     "execution_count": 51,
     "metadata": {},
     "output_type": "execute_result"
    }
   ],
   "source": [
    "manager_join_desig"
   ]
  },
  {
   "cell_type": "code",
   "execution_count": 52,
   "metadata": {},
   "outputs": [],
   "source": [
    "bool_8 = data_imp.Manager_Joining_Designation.isnull()\n",
    "data_imp.loc[bool_8,\"Manager_Joining_Designation\"] =  data_imp.loc[bool_8,'Manager_Current_Designation'].apply(lambda x : manager_join_desig.loc[x])"
   ]
  },
  {
   "cell_type": "code",
   "execution_count": 53,
   "metadata": {},
   "outputs": [],
   "source": [
    "manager_exp = round(data_imp.pivot_table(index = 'Manager_Current_Designation',values = 'Manager_EXP'))"
   ]
  },
  {
   "cell_type": "code",
   "execution_count": 54,
   "metadata": {},
   "outputs": [
    {
     "data": {
      "text/html": [
       "<div>\n",
       "<style scoped>\n",
       "    .dataframe tbody tr th:only-of-type {\n",
       "        vertical-align: middle;\n",
       "    }\n",
       "\n",
       "    .dataframe tbody tr th {\n",
       "        vertical-align: top;\n",
       "    }\n",
       "\n",
       "    .dataframe thead th {\n",
       "        text-align: right;\n",
       "    }\n",
       "</style>\n",
       "<table border=\"1\" class=\"dataframe\">\n",
       "  <thead>\n",
       "    <tr style=\"text-align: right;\">\n",
       "      <th></th>\n",
       "      <th>Manager_EXP</th>\n",
       "    </tr>\n",
       "    <tr>\n",
       "      <th>Manager_Current_Designation</th>\n",
       "      <th></th>\n",
       "    </tr>\n",
       "  </thead>\n",
       "  <tbody>\n",
       "    <tr>\n",
       "      <th>Level 1</th>\n",
       "      <td>2.0</td>\n",
       "    </tr>\n",
       "    <tr>\n",
       "      <th>Level 2</th>\n",
       "      <td>3.0</td>\n",
       "    </tr>\n",
       "    <tr>\n",
       "      <th>Level 3</th>\n",
       "      <td>3.0</td>\n",
       "    </tr>\n",
       "    <tr>\n",
       "      <th>Level 4</th>\n",
       "      <td>5.0</td>\n",
       "    </tr>\n",
       "    <tr>\n",
       "      <th>Level 5</th>\n",
       "      <td>7.0</td>\n",
       "    </tr>\n",
       "  </tbody>\n",
       "</table>\n",
       "</div>"
      ],
      "text/plain": [
       "                             Manager_EXP\n",
       "Manager_Current_Designation             \n",
       "Level 1                              2.0\n",
       "Level 2                              3.0\n",
       "Level 3                              3.0\n",
       "Level 4                              5.0\n",
       "Level 5                              7.0"
      ]
     },
     "execution_count": 54,
     "metadata": {},
     "output_type": "execute_result"
    }
   ],
   "source": [
    "manager_exp"
   ]
  },
  {
   "cell_type": "code",
   "execution_count": 55,
   "metadata": {},
   "outputs": [],
   "source": [
    "bool_9 = data_imp.Manager_EXP.isnull()\n",
    "data_imp.loc[bool_9,\"Manager_EXP\"] =  data_imp.loc[bool_9,'Manager_Current_Designation'].apply(lambda x : manager_exp.loc[x])"
   ]
  },
  {
   "cell_type": "code",
   "execution_count": 56,
   "metadata": {},
   "outputs": [],
   "source": [
    "manager_age = round(data_imp.pivot_table(index = 'Manager_Current_Designation',values = 'Manager_Age'))"
   ]
  },
  {
   "cell_type": "code",
   "execution_count": 57,
   "metadata": {},
   "outputs": [],
   "source": [
    "bool_10 = data_imp.Manager_Age.isnull()\n",
    "data_imp.loc[bool_10,\"Manager_Age\"] = data_imp.loc[bool_10,'Manager_Current_Designation'].apply(lambda x : manager_age.loc[x])"
   ]
  },
  {
   "cell_type": "code",
   "execution_count": 58,
   "metadata": {},
   "outputs": [],
   "source": [
    "data_imp.Manager_Gender.fillna('M',inplace = True)"
   ]
  },
  {
   "cell_type": "code",
   "execution_count": 59,
   "metadata": {},
   "outputs": [
    {
     "data": {
      "text/html": [
       "<div>\n",
       "<style scoped>\n",
       "    .dataframe tbody tr th:only-of-type {\n",
       "        vertical-align: middle;\n",
       "    }\n",
       "\n",
       "    .dataframe tbody tr th {\n",
       "        vertical-align: top;\n",
       "    }\n",
       "\n",
       "    .dataframe thead th {\n",
       "        text-align: right;\n",
       "    }\n",
       "</style>\n",
       "<table border=\"1\" class=\"dataframe\">\n",
       "  <thead>\n",
       "    <tr style=\"text-align: right;\">\n",
       "      <th></th>\n",
       "      <th>Manager_EXP</th>\n",
       "    </tr>\n",
       "    <tr>\n",
       "      <th>Manager_Status</th>\n",
       "      <th></th>\n",
       "    </tr>\n",
       "  </thead>\n",
       "  <tbody>\n",
       "    <tr>\n",
       "      <th>Confirmation</th>\n",
       "      <td>3.995143</td>\n",
       "    </tr>\n",
       "    <tr>\n",
       "      <th>Probation</th>\n",
       "      <td>1.452637</td>\n",
       "    </tr>\n",
       "  </tbody>\n",
       "</table>\n",
       "</div>"
      ],
      "text/plain": [
       "                Manager_EXP\n",
       "Manager_Status             \n",
       "Confirmation       3.995143\n",
       "Probation          1.452637"
      ]
     },
     "execution_count": 59,
     "metadata": {},
     "output_type": "execute_result"
    }
   ],
   "source": [
    "data_imp.pivot_table(index = 'Manager_Status',values = 'Manager_EXP')#,aggfunc = lambda x: mode(x).mode[0])"
   ]
  },
  {
   "cell_type": "code",
   "execution_count": 60,
   "metadata": {},
   "outputs": [],
   "source": [
    "def manager_status(x):\n",
    "    if x <= 1:\n",
    "        return \"Probation\"\n",
    "    else:\n",
    "        return \"Confirmation\"\n",
    "    "
   ]
  },
  {
   "cell_type": "code",
   "execution_count": 61,
   "metadata": {},
   "outputs": [],
   "source": [
    "bool_11 = data_imp.Manager_Status.isnull()\n",
    "data_imp.loc[bool_11,\"Manager_Status\"] = data_imp.loc[bool_11,'Manager_EXP'].apply(lambda x : manager_status(x))"
   ]
  },
  {
   "cell_type": "code",
   "execution_count": 62,
   "metadata": {},
   "outputs": [
    {
     "data": {
      "text/plain": [
       "3.0     4652\n",
       "4.0     3545\n",
       "2.0     3376\n",
       "5.0      886\n",
       "6.0      538\n",
       "7.0       31\n",
       "8.0       17\n",
       "1.0        8\n",
       "9.0        7\n",
       "10.0       5\n",
       "Name: Manager_Grade, dtype: int64"
      ]
     },
     "execution_count": 62,
     "metadata": {},
     "output_type": "execute_result"
    }
   ],
   "source": [
    "data_imp.Manager_Grade.value_counts()"
   ]
  },
  {
   "cell_type": "code",
   "execution_count": 63,
   "metadata": {},
   "outputs": [],
   "source": [
    "manager_grade = round(data_imp.pivot_table(index = 'Manager_Current_Designation',values = 'Manager_Grade'))"
   ]
  },
  {
   "cell_type": "code",
   "execution_count": 64,
   "metadata": {},
   "outputs": [
    {
     "data": {
      "text/html": [
       "<div>\n",
       "<style scoped>\n",
       "    .dataframe tbody tr th:only-of-type {\n",
       "        vertical-align: middle;\n",
       "    }\n",
       "\n",
       "    .dataframe tbody tr th {\n",
       "        vertical-align: top;\n",
       "    }\n",
       "\n",
       "    .dataframe thead th {\n",
       "        text-align: right;\n",
       "    }\n",
       "</style>\n",
       "<table border=\"1\" class=\"dataframe\">\n",
       "  <thead>\n",
       "    <tr style=\"text-align: right;\">\n",
       "      <th></th>\n",
       "      <th>Manager_Grade</th>\n",
       "    </tr>\n",
       "    <tr>\n",
       "      <th>Manager_Current_Designation</th>\n",
       "      <th></th>\n",
       "    </tr>\n",
       "  </thead>\n",
       "  <tbody>\n",
       "    <tr>\n",
       "      <th>Level 1</th>\n",
       "      <td>2.0</td>\n",
       "    </tr>\n",
       "    <tr>\n",
       "      <th>Level 2</th>\n",
       "      <td>3.0</td>\n",
       "    </tr>\n",
       "    <tr>\n",
       "      <th>Level 3</th>\n",
       "      <td>4.0</td>\n",
       "    </tr>\n",
       "    <tr>\n",
       "      <th>Level 4</th>\n",
       "      <td>5.0</td>\n",
       "    </tr>\n",
       "    <tr>\n",
       "      <th>Level 5</th>\n",
       "      <td>6.0</td>\n",
       "    </tr>\n",
       "  </tbody>\n",
       "</table>\n",
       "</div>"
      ],
      "text/plain": [
       "                             Manager_Grade\n",
       "Manager_Current_Designation               \n",
       "Level 1                                2.0\n",
       "Level 2                                3.0\n",
       "Level 3                                4.0\n",
       "Level 4                                5.0\n",
       "Level 5                                6.0"
      ]
     },
     "execution_count": 64,
     "metadata": {},
     "output_type": "execute_result"
    }
   ],
   "source": [
    "manager_grade"
   ]
  },
  {
   "cell_type": "code",
   "execution_count": 65,
   "metadata": {},
   "outputs": [],
   "source": [
    "bool_12 = data_imp.Manager_Grade.isnull()\n",
    "data_imp.loc[bool_12,\"Manager_Grade\"] = data_imp.loc[bool_12,'Manager_Current_Designation'].apply(lambda x : manager_grade.loc[x])"
   ]
  },
  {
   "cell_type": "code",
   "execution_count": 66,
   "metadata": {},
   "outputs": [],
   "source": [
    "manager_num_app = round(data_imp.pivot_table(index = 'Manager_Current_Designation',values = 'Manager_Num_Application'))"
   ]
  },
  {
   "cell_type": "code",
   "execution_count": 67,
   "metadata": {},
   "outputs": [],
   "source": [
    "bool_13 = data_imp.Manager_Num_Application.isnull()\n",
    "data_imp.loc[bool_13,\"Manager_Num_Application\"] = data_imp.loc[bool_13,'Manager_Current_Designation'].apply(lambda x : manager_num_app.loc[x])"
   ]
  },
  {
   "cell_type": "code",
   "execution_count": 68,
   "metadata": {},
   "outputs": [],
   "source": [
    "manage_num_coded = round(data_imp.pivot_table(index = 'Manager_Current_Designation',values = 'Manager_Num_Coded'))"
   ]
  },
  {
   "cell_type": "code",
   "execution_count": 69,
   "metadata": {},
   "outputs": [],
   "source": [
    "bool_14 = data_imp.Manager_Num_Coded.isnull()\n",
    "data_imp.loc[bool_14,\"Manager_Num_Coded\"] = data_imp.loc[bool_14,'Manager_Current_Designation'].apply(lambda x : manage_num_coded.loc[x])"
   ]
  },
  {
   "cell_type": "code",
   "execution_count": 70,
   "metadata": {},
   "outputs": [],
   "source": [
    "manager_business = round(data_imp.pivot_table(index = 'Manager_Current_Designation',values = 'Manager_Business'))"
   ]
  },
  {
   "cell_type": "code",
   "execution_count": 71,
   "metadata": {},
   "outputs": [
    {
     "data": {
      "text/html": [
       "<div>\n",
       "<style scoped>\n",
       "    .dataframe tbody tr th:only-of-type {\n",
       "        vertical-align: middle;\n",
       "    }\n",
       "\n",
       "    .dataframe tbody tr th {\n",
       "        vertical-align: top;\n",
       "    }\n",
       "\n",
       "    .dataframe thead th {\n",
       "        text-align: right;\n",
       "    }\n",
       "</style>\n",
       "<table border=\"1\" class=\"dataframe\">\n",
       "  <thead>\n",
       "    <tr style=\"text-align: right;\">\n",
       "      <th></th>\n",
       "      <th>Manager_Business</th>\n",
       "    </tr>\n",
       "    <tr>\n",
       "      <th>Manager_Current_Designation</th>\n",
       "      <th></th>\n",
       "    </tr>\n",
       "  </thead>\n",
       "  <tbody>\n",
       "    <tr>\n",
       "      <th>Level 1</th>\n",
       "      <td>99127.0</td>\n",
       "    </tr>\n",
       "    <tr>\n",
       "      <th>Level 2</th>\n",
       "      <td>140065.0</td>\n",
       "    </tr>\n",
       "    <tr>\n",
       "      <th>Level 3</th>\n",
       "      <td>155443.0</td>\n",
       "    </tr>\n",
       "    <tr>\n",
       "      <th>Level 4</th>\n",
       "      <td>348754.0</td>\n",
       "    </tr>\n",
       "    <tr>\n",
       "      <th>Level 5</th>\n",
       "      <td>705837.0</td>\n",
       "    </tr>\n",
       "  </tbody>\n",
       "</table>\n",
       "</div>"
      ],
      "text/plain": [
       "                             Manager_Business\n",
       "Manager_Current_Designation                  \n",
       "Level 1                               99127.0\n",
       "Level 2                              140065.0\n",
       "Level 3                              155443.0\n",
       "Level 4                              348754.0\n",
       "Level 5                              705837.0"
      ]
     },
     "execution_count": 71,
     "metadata": {},
     "output_type": "execute_result"
    }
   ],
   "source": [
    "manager_business"
   ]
  },
  {
   "cell_type": "code",
   "execution_count": 72,
   "metadata": {},
   "outputs": [],
   "source": [
    "bool_15 = data_imp.Manager_Business.isnull()\n",
    "data_imp.loc[bool_15,\"Manager_Business\"] = data_imp.loc[bool_15,'Manager_Current_Designation'].apply(lambda x : manager_business.loc[x])"
   ]
  },
  {
   "cell_type": "code",
   "execution_count": 73,
   "metadata": {},
   "outputs": [],
   "source": [
    "manager_num_products = round(data_imp.pivot_table(index = 'Manager_Current_Designation',values = 'Manager_Num_Products'))"
   ]
  },
  {
   "cell_type": "code",
   "execution_count": 74,
   "metadata": {},
   "outputs": [],
   "source": [
    "#bool_16 = data_imp.Manager_Num_Products.isnull()\n",
    "#data_imp.loc[bool_16,\"Manager_Num_Products\"] = data_imp.loc[bool_16,'Manager_Current_Designation'].apply(lambda x : manager_num_products.loc[x])"
   ]
  },
  {
   "cell_type": "code",
   "execution_count": 75,
   "metadata": {},
   "outputs": [],
   "source": [
    "#data_imp.Manager_Business.fillna(0,inplace = True)\n",
    "#data_imp.Manager_Num_Products.fillna(0,inplace = True)"
   ]
  },
  {
   "cell_type": "code",
   "execution_count": 76,
   "metadata": {},
   "outputs": [
    {
     "name": "stdout",
     "output_type": "stream",
     "text": [
      "<class 'pandas.core.frame.DataFrame'>\n",
      "RangeIndex: 14572 entries, 0 to 14571\n",
      "Data columns (total 28 columns):\n",
      " #   Column                       Non-Null Count  Dtype         \n",
      "---  ------                       --------------  -----         \n",
      " 0   ID                           14572 non-null  object        \n",
      " 1   Office_PIN                   14572 non-null  int64         \n",
      " 2   Application_Receipt_Date     14572 non-null  datetime64[ns]\n",
      " 3   Applicant_City_PIN           14441 non-null  float64       \n",
      " 4   Applicant_Gender             14572 non-null  object        \n",
      " 5   Applicant_BirthDate          14473 non-null  datetime64[ns]\n",
      " 6   Applicant_Marital_Status     14572 non-null  object        \n",
      " 7   Applicant_Occupation         14572 non-null  object        \n",
      " 8   Applicant_Qualification      14572 non-null  object        \n",
      " 9   Manager_DOJ                  13065 non-null  datetime64[ns]\n",
      " 10  Manager_Joining_Designation  14572 non-null  object        \n",
      " 11  Manager_Current_Designation  14572 non-null  object        \n",
      " 12  Manager_Grade                14572 non-null  float64       \n",
      " 13  Manager_Status               14572 non-null  object        \n",
      " 14  Manager_Gender               14572 non-null  object        \n",
      " 15  Manager_DoB                  13065 non-null  datetime64[ns]\n",
      " 16  Manager_Num_Application      14572 non-null  float64       \n",
      " 17  Manager_Num_Coded            14572 non-null  float64       \n",
      " 18  Manager_Business             14572 non-null  float64       \n",
      " 19  Manager_Num_Products         13065 non-null  float64       \n",
      " 20  Manager_Business2            13065 non-null  float64       \n",
      " 21  Manager_Num_Products2        13065 non-null  float64       \n",
      " 22  Business_Sourced             9527 non-null   float64       \n",
      " 23  source                       14572 non-null  object        \n",
      " 24  Applicant_Age                14572 non-null  float64       \n",
      " 25  Application_Month            14572 non-null  int64         \n",
      " 26  Manager_EXP                  14572 non-null  float64       \n",
      " 27  Manager_Age                  14572 non-null  float64       \n",
      "dtypes: datetime64[ns](4), float64(12), int64(2), object(10)\n",
      "memory usage: 3.1+ MB\n"
     ]
    }
   ],
   "source": [
    "data_imp.info()"
   ]
  },
  {
   "cell_type": "code",
   "execution_count": null,
   "metadata": {},
   "outputs": [],
   "source": []
  },
  {
   "cell_type": "code",
   "execution_count": 77,
   "metadata": {},
   "outputs": [],
   "source": [
    "data_imp['Manager_Joining_Designation'] = data_imp['Manager_Joining_Designation'].map({'Level 1':1,'Level 2':2,'Level 3':3,'Level 4':4,'Other':5,'Level 5':6,'Level 6':7,'Level 7':8})\n",
    "data_imp['Manager_Current_Designation'] = data_imp['Manager_Current_Designation'].map({'Level 1':1,'Level 2':2,'Level 3':3,'Level 4':4,'Level 5':5})"
   ]
  },
  {
   "cell_type": "code",
   "execution_count": 78,
   "metadata": {},
   "outputs": [],
   "source": [
    "#columns which are to be converted to dummies\n",
    "dummies = ['Applicant_Gender','Applicant_Marital_Status','Applicant_Occupation','Applicant_Qualification',\n",
    "          'Manager_Status','Manager_Gender']"
   ]
  },
  {
   "cell_type": "code",
   "execution_count": 79,
   "metadata": {},
   "outputs": [],
   "source": [
    "final_data = pd.get_dummies(data_imp,columns = dummies,drop_first = True)"
   ]
  },
  {
   "cell_type": "code",
   "execution_count": 80,
   "metadata": {},
   "outputs": [],
   "source": [
    "#removing unwanted columns\n",
    "cols_to_remove = ['ID','Office_PIN','Application_Receipt_Date','Applicant_City_PIN','Applicant_BirthDate',\n",
    "'Manager_DOJ','Manager_DoB','Manager_Business2','Manager_Num_Products2','Manager_Num_Products',\n",
    "                 'Applicant_Qualification_Associate/Fellow of Acturial Society of India',\n",
    "                  'Applicant_Qualification_Associate/Fellow of Institute of Company Secretories of India',\n",
    "                  'Applicant_Qualification_Associate/Fellow of Institute of Institute of Costs and Works Accountants of India',\n",
    "                  'Applicant_Qualification_Associate/Fellow of Insurance Institute of India',\n",
    "                  'Applicant_Qualification_Certified Associateship of Indian Institute of Bankers'\n",
    "                  \n",
    "                 ]\n",
    "final_data.drop(columns = cols_to_remove,axis = 1,inplace = True)"
   ]
  },
  {
   "cell_type": "code",
   "execution_count": 81,
   "metadata": {},
   "outputs": [
    {
     "data": {
      "text/plain": [
       "Index(['Manager_Joining_Designation', 'Manager_Current_Designation',\n",
       "       'Manager_Grade', 'Manager_Num_Application', 'Manager_Num_Coded',\n",
       "       'Manager_Business', 'Business_Sourced', 'source', 'Applicant_Age',\n",
       "       'Application_Month', 'Manager_EXP', 'Manager_Age', 'Applicant_Gender_M',\n",
       "       'Applicant_Marital_Status_M', 'Applicant_Marital_Status_S',\n",
       "       'Applicant_Marital_Status_W', 'Applicant_Occupation_Others',\n",
       "       'Applicant_Occupation_Salaried', 'Applicant_Occupation_Self Employed',\n",
       "       'Applicant_Occupation_Student', 'Applicant_Qualification_Class X',\n",
       "       'Applicant_Qualification_Class XII', 'Applicant_Qualification_Graduate',\n",
       "       'Applicant_Qualification_Masters of Business Administration',\n",
       "       'Applicant_Qualification_Others',\n",
       "       'Applicant_Qualification_Professional Qualification in Marketing',\n",
       "       'Manager_Status_Probation', 'Manager_Gender_M'],\n",
       "      dtype='object')"
      ]
     },
     "execution_count": 81,
     "metadata": {},
     "output_type": "execute_result"
    }
   ],
   "source": [
    "final_data.columns"
   ]
  },
  {
   "cell_type": "code",
   "execution_count": 82,
   "metadata": {},
   "outputs": [
    {
     "name": "stdout",
     "output_type": "stream",
     "text": [
      "Dimension of Train data: (9527, 27)\n",
      "Dimension of Test data: (5045, 26)\n"
     ]
    },
    {
     "name": "stderr",
     "output_type": "stream",
     "text": [
      "C:\\Users\\user\\Anaconda4\\envs\\DeeplEnv\\lib\\site-packages\\pandas\\core\\frame.py:3997: SettingWithCopyWarning: \n",
      "A value is trying to be set on a copy of a slice from a DataFrame\n",
      "\n",
      "See the caveats in the documentation: https://pandas.pydata.org/pandas-docs/stable/user_guide/indexing.html#returning-a-view-versus-a-copy\n",
      "  errors=errors,\n"
     ]
    }
   ],
   "source": [
    "data_train = final_data[final_data['source'] == 'train']\n",
    "data_test = final_data[final_data['source'] == 'test']\n",
    "data_train.drop('source',axis = 1,inplace = True)\n",
    "data_test.drop(['source','Business_Sourced'],axis = 1,inplace = True)\n",
    "print(\"Dimension of Train data: {}\".format(data_train.shape))\n",
    "print(\"Dimension of Test data: {}\".format(data_test.shape))"
   ]
  },
  {
   "cell_type": "code",
   "execution_count": 84,
   "metadata": {},
   "outputs": [
    {
     "name": "stdout",
     "output_type": "stream",
     "text": [
      "Dimension of Train data: (7621, 26)\n",
      "Dimension of Test data: (1906, 26)\n"
     ]
    }
   ],
   "source": [
    "X = data_train[data_train.columns.difference(['Business_Sourced'])]\n",
    "y = data_train['Business_Sourced']\n",
    "\n",
    "from sklearn.model_selection import train_test_split\n",
    "\n",
    "X_train, X_test, y_train, y_test = train_test_split(X, y, test_size=0.20, random_state=42)\n",
    "print(\"Dimension of Train data: {}\".format(X_train.shape))\n",
    "print(\"Dimension of Test data: {}\".format(X_test.shape))"
   ]
  },
  {
   "cell_type": "code",
   "execution_count": 85,
   "metadata": {},
   "outputs": [],
   "source": [
    "from sklearn.preprocessing import StandardScaler\n",
    "scaler = StandardScaler()"
   ]
  },
  {
   "cell_type": "code",
   "execution_count": 86,
   "metadata": {},
   "outputs": [],
   "source": [
    "X_train = scaler.fit_transform(X_train)\n",
    "X_test = scaler.transform(X_test)\n",
    "data_test = scaler.transform(data_test)"
   ]
  },
  {
   "cell_type": "code",
   "execution_count": 87,
   "metadata": {},
   "outputs": [],
   "source": [
    "from imblearn.over_sampling import SMOTE"
   ]
  },
  {
   "cell_type": "code",
   "execution_count": 88,
   "metadata": {},
   "outputs": [],
   "source": [
    "sm = SMOTE(random_state=27)"
   ]
  },
  {
   "cell_type": "code",
   "execution_count": 89,
   "metadata": {},
   "outputs": [],
   "source": [
    "X_train, y_train = sm.fit_sample(X_train, y_train)"
   ]
  },
  {
   "cell_type": "code",
   "execution_count": 90,
   "metadata": {},
   "outputs": [
    {
     "data": {
      "text/plain": [
       "array([[-0.99496271,  0.55688912, -1.37877764, ...,  0.50355138,\n",
       "        -0.67557355,  1.29747859],\n",
       "       [-1.18933629, -1.79568959, -1.37877764, ...,  0.02319526,\n",
       "        -0.67557355,  1.29747859],\n",
       "       [ 0.3656524 ,  0.55688912,  0.72528011, ..., -0.45716086,\n",
       "         0.1979497 , -0.77072562],\n",
       "       ...,\n",
       "       [ 0.57480923,  0.55688912,  0.72528011, ..., -0.93751699,\n",
       "        -0.67557355,  1.29747859],\n",
       "       [-0.14184521,  0.55688912,  0.72528011, ...,  0.44951774,\n",
       "         0.48732181,  0.83858886],\n",
       "       [ 0.25527665,  0.55688912,  0.72528011, ...,  0.97205517,\n",
       "        -0.66479687, -0.77072562]])"
      ]
     },
     "execution_count": 90,
     "metadata": {},
     "output_type": "execute_result"
    }
   ],
   "source": [
    "X_train"
   ]
  },
  {
   "cell_type": "code",
   "execution_count": 91,
   "metadata": {},
   "outputs": [],
   "source": [
    "from sklearn.linear_model import LogisticRegression\n",
    "from sklearn.model_selection import GridSearchCV"
   ]
  },
  {
   "cell_type": "code",
   "execution_count": 92,
   "metadata": {},
   "outputs": [],
   "source": [
    "from sklearn.model_selection import cross_val_score\n",
    "from sklearn.metrics import roc_auc_score,accuracy_score\n",
    "\n",
    "def build_model(alg,x_train,y_train,x_test,y_test):\n",
    "    alg.fit(x_train,y_train)\n",
    "    pred = alg.predict(x_train)\n",
    "    Train_score = roc_auc_score(y_train,pred)\n",
    "    print(\"Model Report\")\n",
    "    print(\"score of Training Data: {}\".format(Train_score))\n",
    "    cv_score = cross_val_score(alg,x_train,y_train,cv= 5,scoring = 'roc_auc')\n",
    "    print(\"CV score   Mean -- %.4g | Median -- %.4g | Min -- %.4g | Max -- %.4g\"%(np.mean(cv_score),np.std(cv_score),np.min(cv_score),np.max(cv_score)))\n",
    "    \n",
    "    #test predictions\n",
    "    pred_test = alg.predict(x_test)\n",
    "    print(f'Algorithm score on test data is {roc_auc_score(y_test,pred_test)}')\n",
    "    \n",
    "    \n",
    "    "
   ]
  },
  {
   "cell_type": "code",
   "execution_count": 93,
   "metadata": {},
   "outputs": [],
   "source": [
    "from sklearn.naive_bayes import GaussianNB \n",
    "gnb = GaussianNB()"
   ]
  },
  {
   "cell_type": "code",
   "execution_count": 94,
   "metadata": {},
   "outputs": [
    {
     "name": "stdout",
     "output_type": "stream",
     "text": [
      "Model Report\n",
      "score of Training Data: 0.5208791208791209\n",
      "CV score   Mean -- 0.575 | Median -- 0.003587 | Min -- 0.5699 | Max -- 0.5795\n",
      "Algorithm score on test data is 0.5409152942760448\n"
     ]
    }
   ],
   "source": [
    "build_model(gnb,X_train,y_train,X_test,y_test)"
   ]
  },
  {
   "cell_type": "code",
   "execution_count": 95,
   "metadata": {},
   "outputs": [],
   "source": [
    "from sklearn.metrics import classification_report,confusion_matrix"
   ]
  },
  {
   "cell_type": "code",
   "execution_count": 96,
   "metadata": {},
   "outputs": [],
   "source": [
    "pred = gnb.predict(X_test)"
   ]
  },
  {
   "cell_type": "code",
   "execution_count": 97,
   "metadata": {},
   "outputs": [
    {
     "name": "stdout",
     "output_type": "stream",
     "text": [
      "              precision    recall  f1-score   support\n",
      "\n",
      "         0.0       0.68      0.91      0.78      1255\n",
      "         1.0       0.49      0.18      0.26       651\n",
      "\n",
      "    accuracy                           0.66      1906\n",
      "   macro avg       0.59      0.54      0.52      1906\n",
      "weighted avg       0.62      0.66      0.60      1906\n",
      "\n"
     ]
    }
   ],
   "source": [
    "print(classification_report(y_test,pred))"
   ]
  },
  {
   "cell_type": "code",
   "execution_count": 451,
   "metadata": {},
   "outputs": [
    {
     "name": "stdout",
     "output_type": "stream",
     "text": [
      "[[1136  119]\n",
      " [ 536  115]]\n"
     ]
    }
   ],
   "source": [
    "print(confusion_matrix(y_test,pred))"
   ]
  },
  {
   "cell_type": "code",
   "execution_count": 452,
   "metadata": {},
   "outputs": [],
   "source": [
    "final_pred_gnb = gnb.predict(data_test)\n",
    "submission_gnb = pd.DataFrame(test['ID'])\n",
    "submission_gnb['Business_Sourced'] = final_pred_gnb\n",
    "submission_gnb.to_csv('G:\\\\Data Science\\\\AV_Hackathon\\\\submission_gnb.csv',index = False)"
   ]
  },
  {
   "cell_type": "code",
   "execution_count": null,
   "metadata": {},
   "outputs": [],
   "source": []
  },
  {
   "cell_type": "code",
   "execution_count": 453,
   "metadata": {},
   "outputs": [],
   "source": [
    "from sklearn.svm import SVC\n",
    "svc = SVC(C=0.1, break_ties=False, cache_size=200, class_weight=None, coef0=0.0,\n",
    "          decision_function_shape='ovr', degree=3, gamma=1, kernel='rbf', max_iter=-1,\n",
    "          probability=False, random_state=None, shrinking=True, tol=0.001,verbose=False)"
   ]
  },
  {
   "cell_type": "code",
   "execution_count": 454,
   "metadata": {},
   "outputs": [
    {
     "name": "stdout",
     "output_type": "stream",
     "text": [
      "Model Report\n",
      "score of Training Data: 0.8946053946053947\n",
      "CV score   Mean -- 0.7718 | Median -- 0.05709 | Min -- 0.7098 | Max -- 0.8465\n",
      "Algorithm score on test data is 0.4997686672664182\n"
     ]
    }
   ],
   "source": [
    "build_model(svc,X_train,y_train,X_test,y_test)"
   ]
  },
  {
   "cell_type": "code",
   "execution_count": 350,
   "metadata": {},
   "outputs": [],
   "source": [
    "final_pred_SVC = svc.predict(data_test)\n",
    "submission_SVC = pd.DataFrame(test['ID'])\n",
    "submission_SVC['Business_Sourced'] = final_pred_SVC\n",
    "submission_SVC.to_csv('G:\\\\Data Science\\\\AV_Hackathon\\\\submission_SVC_SM.csv',index = False)"
   ]
  },
  {
   "cell_type": "code",
   "execution_count": 458,
   "metadata": {},
   "outputs": [
    {
     "name": "stdout",
     "output_type": "stream",
     "text": [
      "Best roc_auc: 0.5876, with best C: {'C': 0.1}\n"
     ]
    }
   ],
   "source": [
    "param = {'C':[0.03,0.05,0.1,0.3,0.5,1,2,3,3,4,5,10,20]}\n",
    "clf = GridSearchCV(model_LR,param,scoring='roc_auc',cv=10)\n",
    "clf.fit(X_train,y_train)\n",
    "print('Best roc_auc: {:.4}, with best C: {}'.format(clf.best_score_, clf.best_params_))"
   ]
  },
  {
   "cell_type": "code",
   "execution_count": 457,
   "metadata": {},
   "outputs": [],
   "source": [
    "model_LR = LogisticRegression(class_weight = 'balanced',solver = 'liblinear',max_iter = 150,C = 0.1)"
   ]
  },
  {
   "cell_type": "code",
   "execution_count": 459,
   "metadata": {},
   "outputs": [
    {
     "name": "stdout",
     "output_type": "stream",
     "text": [
      "Model Report\n",
      "score of Training Data: 0.5655344655344656\n",
      "CV score   Mean -- 0.586 | Median -- 0.006037 | Min -- 0.577 | Max -- 0.5953\n",
      "Algorithm score on test data is 0.5586801794358665\n"
     ]
    }
   ],
   "source": [
    "\n",
    "build_model(model_LR,X_train,y_train,X_test,y_test)"
   ]
  },
  {
   "cell_type": "code",
   "execution_count": 460,
   "metadata": {},
   "outputs": [],
   "source": [
    "final_pred_LR = model_LR.predict(data_test)\n",
    "submission_LR = pd.DataFrame(test['ID'])\n",
    "submission_LR['Business_Sourced'] = final_pred_LR\n",
    "submission_LR.to_csv('G:\\\\Data Science\\\\AV_Hackathon\\\\submission_LR_SM.csv',index = False)"
   ]
  },
  {
   "cell_type": "code",
   "execution_count": 461,
   "metadata": {},
   "outputs": [],
   "source": [
    "from sklearn.ensemble import RandomForestClassifier"
   ]
  },
  {
   "cell_type": "code",
   "execution_count": 462,
   "metadata": {},
   "outputs": [],
   "source": [
    "model_RFC = RandomForestClassifier(class_weight = 'balanced',max_samples = 0.8,max_depth = 6,min_samples_split= 4,n_jobs = -1,n_estimators = 300,random_state = 42)"
   ]
  },
  {
   "cell_type": "code",
   "execution_count": 463,
   "metadata": {},
   "outputs": [
    {
     "name": "stdout",
     "output_type": "stream",
     "text": [
      "Model Report\n",
      "score of Training Data: 0.7184815184815185\n",
      "CV score   Mean -- 0.7441 | Median -- 0.1228 | Min -- 0.6061 | Max -- 0.8909\n",
      "Algorithm score on test data is 0.5492879480541735\n"
     ]
    }
   ],
   "source": [
    "build_model(model_RFC,X_train,y_train,X_test,y_test)"
   ]
  },
  {
   "cell_type": "code",
   "execution_count": 103,
   "metadata": {},
   "outputs": [],
   "source": [
    "final_pred_RFC = model_RFC.predict(data_test)\n",
    "submission_RFC = pd.DataFrame(test['ID'])\n",
    "submission_RFC['Business_Sourced'] = final_pred_RFC\n",
    "submission_RFC.to_csv('G:\\\\Data Science\\\\AV_Hackathon\\\\submission_RFC_SM.csv',index = False)"
   ]
  },
  {
   "cell_type": "code",
   "execution_count": 104,
   "metadata": {},
   "outputs": [],
   "source": [
    "from xgboost import XGBClassifier"
   ]
  },
  {
   "cell_type": "code",
   "execution_count": 114,
   "metadata": {},
   "outputs": [],
   "source": [
    "model_xgb = XGBClassifier(objective='binary:logistic',subsample= 0.7,booster = 'gbtree',min_child_weight= 1,max_depth= 4,gamma= 1.5,colsample_bytree= 0.8,random_state = 42)\n"
   ]
  },
  {
   "cell_type": "code",
   "execution_count": 111,
   "metadata": {},
   "outputs": [
    {
     "name": "stdout",
     "output_type": "stream",
     "text": [
      "Model Report\n",
      "score of Training Data: 0.7991008991008991\n",
      "CV score   Mean -- 0.7819 | Median -- 0.1726 | Min -- 0.5839 | Max -- 0.9813\n",
      "Algorithm score on test data is 0.541838789236296\n"
     ]
    }
   ],
   "source": [
    "build_model(model_xgb,X_train,y_train,X_test,y_test)"
   ]
  },
  {
   "cell_type": "code",
   "execution_count": 115,
   "metadata": {},
   "outputs": [
    {
     "data": {
      "text/plain": [
       "XGBClassifier(base_score=0.5, booster='gbtree', colsample_bylevel=1,\n",
       "              colsample_bynode=1, colsample_bytree=0.8, gamma=1.5, gpu_id=-1,\n",
       "              importance_type='gain', interaction_constraints=None,\n",
       "              learning_rate=0.300000012, max_delta_step=0, max_depth=4,\n",
       "              min_child_weight=1, missing=nan, monotone_constraints=None,\n",
       "              n_estimators=100, n_jobs=0, num_parallel_tree=1, random_state=42,\n",
       "              reg_alpha=0, reg_lambda=1, scale_pos_weight=1, subsample=0.7,\n",
       "              tree_method=None, validate_parameters=False, verbosity=None)"
      ]
     },
     "execution_count": 115,
     "metadata": {},
     "output_type": "execute_result"
    }
   ],
   "source": [
    "model_xgb.fit(X_train,y_train)"
   ]
  },
  {
   "cell_type": "code",
   "execution_count": null,
   "metadata": {},
   "outputs": [],
   "source": [
    "final_pred_xgb = model_xgb.predict(data_test)"
   ]
  },
  {
   "cell_type": "code",
   "execution_count": null,
   "metadata": {},
   "outputs": [],
   "source": [
    "final_pred_xgb = model_xgb.predict(data_test)\n",
    "submission_xgb = pd.DataFrame(test['ID'])\n",
    "submission_xgb['Business_Sourced'] = final_pred_xgb\n",
    "submission_xgb.to_csv('G:\\\\Data Science\\\\AV_Hackathon\\\\submission_xgb_SM.csv',index = False)"
   ]
  },
  {
   "cell_type": "code",
   "execution_count": 389,
   "metadata": {},
   "outputs": [],
   "source": [
    "params = {\n",
    "        'min_child_weight': [1, 5],\n",
    "        'gamma': [0.5, 1, 1.5, 2, 5],\n",
    "        'subsample': [0.7, 0.8,],\n",
    "        'colsample_bytree': [0.6, 0.8, 1.0],\n",
    "        'max_depth': [3, 4, 5]\n",
    "        }"
   ]
  },
  {
   "cell_type": "code",
   "execution_count": 392,
   "metadata": {},
   "outputs": [],
   "source": [
    "def grid_search(model,x,y,param_grid,cv):\n",
    "    clf = GridSearchCV(model,param_grid = params,scoring='roc_auc',cv=cv)\n",
    "    clf.fit(x,y)\n",
    "    print('Best roc_auc: {:.4}, with best C: {}'.format(clf.best_score_, clf.best_params_))"
   ]
  },
  {
   "cell_type": "code",
   "execution_count": 396,
   "metadata": {},
   "outputs": [],
   "source": [
    "from sklearn.model_selection import StratifiedKFold\n",
    "from sklearn.model_selection import RandomizedSearchCV, GridSearchCV\n",
    "folds = 3\n",
    "param_comb = 5\n",
    "\n",
    "skf = StratifiedKFold(n_splits=folds, shuffle = True, random_state = 1001)\n",
    "\n",
    "random_search = RandomizedSearchCV(model_xgb, param_distributions=params, n_iter=param_comb, scoring='roc_auc', n_jobs=-1, cv=skf.split(X_train,y_train), verbose=3, random_state=1001 )"
   ]
  },
  {
   "cell_type": "code",
   "execution_count": 397,
   "metadata": {},
   "outputs": [
    {
     "name": "stdout",
     "output_type": "stream",
     "text": [
      "Fitting 3 folds for each of 5 candidates, totalling 15 fits\n"
     ]
    },
    {
     "name": "stderr",
     "output_type": "stream",
     "text": [
      "[Parallel(n_jobs=-1)]: Using backend LokyBackend with 4 concurrent workers.\n",
      "[Parallel(n_jobs=-1)]: Done  15 out of  15 | elapsed:   15.8s finished\n"
     ]
    },
    {
     "data": {
      "text/plain": [
       "RandomizedSearchCV(cv=<generator object _BaseKFold.split at 0x000001E5094B5BC8>,\n",
       "                   error_score=nan,\n",
       "                   estimator=XGBClassifier(base_score=0.5, booster=None,\n",
       "                                           colsample_bylevel=1,\n",
       "                                           colsample_bynode=1,\n",
       "                                           colsample_bytree=1, gamma=0,\n",
       "                                           gpu_id=-1, importance_type='gain',\n",
       "                                           interaction_constraints=None,\n",
       "                                           learning_rate=0.300000012,\n",
       "                                           max_delta_step=0, max_depth=6,\n",
       "                                           min_child_weight=1, miss...\n",
       "                                           subsample=1, tree_method=None,\n",
       "                                           validate_parameters=False,\n",
       "                                           verbosity=None),\n",
       "                   iid='deprecated', n_iter=5, n_jobs=-1,\n",
       "                   param_distributions={'colsample_bytree': [0.6, 0.8, 1.0],\n",
       "                                        'gamma': [0.5, 1, 1.5, 2, 5],\n",
       "                                        'max_depth': [3, 4, 5],\n",
       "                                        'min_child_weight': [1, 5],\n",
       "                                        'subsample': [0.7, 0.8]},\n",
       "                   pre_dispatch='2*n_jobs', random_state=1001, refit=True,\n",
       "                   return_train_score=False, scoring='roc_auc', verbose=3)"
      ]
     },
     "execution_count": 397,
     "metadata": {},
     "output_type": "execute_result"
    }
   ],
   "source": [
    "random_search.fit(X_train,y_train)"
   ]
  },
  {
   "cell_type": "code",
   "execution_count": 398,
   "metadata": {},
   "outputs": [
    {
     "data": {
      "text/plain": [
       "0.5972740822228627"
      ]
     },
     "execution_count": 398,
     "metadata": {},
     "output_type": "execute_result"
    }
   ],
   "source": [
    "random_search.best_score_"
   ]
  },
  {
   "cell_type": "code",
   "execution_count": 399,
   "metadata": {},
   "outputs": [
    {
     "data": {
      "text/plain": [
       "{'subsample': 0.7,\n",
       " 'min_child_weight': 1,\n",
       " 'max_depth': 4,\n",
       " 'gamma': 1.5,\n",
       " 'colsample_bytree': 0.8}"
      ]
     },
     "execution_count": 399,
     "metadata": {},
     "output_type": "execute_result"
    }
   ],
   "source": [
    " random_search.best_params_"
   ]
  }
 ],
 "metadata": {
  "kernelspec": {
   "display_name": "Python 3",
   "language": "python",
   "name": "python3"
  },
  "language_info": {
   "codemirror_mode": {
    "name": "ipython",
    "version": 3
   },
   "file_extension": ".py",
   "mimetype": "text/x-python",
   "name": "python",
   "nbconvert_exporter": "python",
   "pygments_lexer": "ipython3",
   "version": "3.7.7"
  }
 },
 "nbformat": 4,
 "nbformat_minor": 4
}
